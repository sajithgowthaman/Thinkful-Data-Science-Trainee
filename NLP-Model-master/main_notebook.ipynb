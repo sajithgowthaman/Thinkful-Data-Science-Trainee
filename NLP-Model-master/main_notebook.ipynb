{
 "cells": [
  {
   "cell_type": "code",
   "execution_count": null,
   "metadata": {},
   "outputs": [],
   "source": []
  },
  {
   "cell_type": "markdown",
   "metadata": {},
   "source": [
    "### importing library"
   ]
  },
  {
   "cell_type": "code",
   "execution_count": 1,
   "metadata": {},
   "outputs": [],
   "source": [
    "import re\n",
    "import os\n",
    "import json\n",
    "from flask import Flask, request, render_template, redirect, url_for\n",
    "from werkzeug.utils import secure_filename\n",
    "from pdt_txt import convert\n",
    "from build_db import BuildingDB\n",
    "from build_tfidf import buildingTFIDF\n",
    "from querying import query\n"
   ]
  },
  {
   "cell_type": "markdown",
   "metadata": {},
   "source": [
    "### initializing the webapp"
   ]
  },
  {
   "cell_type": "code",
   "execution_count": 2,
   "metadata": {},
   "outputs": [],
   "source": [
    "app = Flask(__name__)"
   ]
  },
  {
   "cell_type": "markdown",
   "metadata": {},
   "source": [
    "### Training class"
   ]
  },
  {
   "cell_type": "code",
   "execution_count": 3,
   "metadata": {},
   "outputs": [],
   "source": [
    "class Training:\n",
    "    def __init__(self, file_name):\n",
    "        self.doc_name = file_name.strip(\".pdf\")\n",
    "        print(self.doc_name)\n",
    "        self.domain = \"model\"\n",
    "        if not os.path.exists('./input_file'):\n",
    "            print(\"Created directory to store the model file\")\n",
    "            os.makedirs('./input_file')\n",
    "            os.makedirs('./db_file')\n",
    "            os.makedirs('./output_model')\n",
    "\n",
    "        self.file_name = self.doc_name + \".txt\"\n",
    "        self.data_path = \"./input_file/\" + self.domain\n",
    "        self.save_path = \"./db_file/\" + self.domain + \".db\"\n",
    "        self.out_dir = \"./output_model/\"\n",
    "        self.c = []\n",
    "\n",
    "        self.statusContent = dict()\n",
    "        self.statusContent[\"domainId\"] = self.domain\n",
    "        self.statusContent[\"documentId\"] = self.doc_name\n",
    "\n",
    "        try:\n",
    "            self.extractedContent = convert(self.doc_name + \".pdf\")\n",
    "            converted = open(self.file_name, \"w\")\n",
    "            converted.write(self.extractedContent)\n",
    "            converted.close()\n",
    "            print(\"writing content into file for training\")\n",
    "            print(\"Extracted the content for the training\")\n",
    "\n",
    "        except KeyError:\n",
    "            self.statusContent[\"status\"] = \"FAILURE\"\n",
    "            self.statusContent[\"error\"] = \"No content found to train for the domain %s\" % self.domain\n",
    "            return\n",
    "\n",
    "        if len(self.extractedContent.split()) <= 25:\n",
    "            self.statusContent[\"status\"] = \"FAILURE\"\n",
    "            self.statusContent[\"error\"] = \"Not enough words Found to train\"\n",
    "            return\n",
    "\n",
    "    def process(self, ):\n",
    "        self.opening_file()\n",
    "        status = self.model_creation()\n",
    "        os.remove(self.file_name)\n",
    "        os.remove(self.doc_name + \".pdf\")\n",
    "        return status\n",
    "\n",
    "    def opening_file(self, ):\n",
    "        print(\"Data is parsing for training\")\n",
    "\n",
    "        self.document = open(self.file_name, 'r').readlines()\n",
    "\n",
    "        for i in self.document:\n",
    "            self.d = re.sub(\"[^a-zA-Z0-9.,$]\", \" \", i)\n",
    "            self.c.append(re.sub(' +', ' ', self.d.strip()))\n",
    "        self.conts = list(filter(None, list(set((' '.join(self.c)).split('.')))))\n",
    "\n",
    "        self.f2 = open('./input_file/' + self.domain, 'a')\n",
    "        for i in range(len(self.conts)):\n",
    "            self.f2.write('{' + '\"id\":\"{0}\"'.format(i + 1) + ', \"text\":\"{0}\"'.format(self.conts[i] + '.') + '}')\n",
    "            self.f2.write('\\n')\n",
    "        self.f2.close()\n",
    "\n",
    "    def model_creation(self, ):\n",
    "        print(\"Training Process has been started\")\n",
    "        BuildingDB(self.data_path, self.save_path).store_contents()\n",
    "        buildingTFIDF(self.save_path, self.out_dir)\n",
    "        status = {\"domainName\": self.domain, \"documentName\": self.doc_name, \"status\": \"SUCCESS\"}\n",
    "        return status"
   ]
  },
  {
   "cell_type": "markdown",
   "metadata": {},
   "source": [
    "### Training api invoke function"
   ]
  },
  {
   "cell_type": "code",
   "execution_count": 4,
   "metadata": {},
   "outputs": [],
   "source": [
    "@app.route('/', methods=['POST', 'GET'])\n",
    "def train():\n",
    "    if request.method == 'GET':\n",
    "        return render_template('index2.html')\n",
    "    elif request.method == 'POST':\n",
    "        print(\"..............Model training starting..............\")\n",
    "        fname = request.files.get('title')\n",
    "        fname.save('./' + secure_filename(fname.filename))\n",
    "        response = Training(fname.filename).process()\n",
    "        print(response)\n",
    "        return redirect(url_for('prediction'))"
   ]
  },
  {
   "cell_type": "markdown",
   "metadata": {},
   "source": [
    "### Prediction api invoke function"
   ]
  },
  {
   "cell_type": "code",
   "execution_count": 5,
   "metadata": {},
   "outputs": [],
   "source": [
    "@app.route('/predict', methods=['POST', 'GET'])\n",
    "def prediction():\n",
    "    if request.method == 'GET':\n",
    "        return render_template('index.html')\n",
    "    elif request.method == 'POST':\n",
    "        question = request.form.get('query')\n",
    "        response = json.loads(query(question))\n",
    "        answer = 'Sorry, I did not get that. Please rephrase your question'\n",
    "        final_answer = None\n",
    "        multiple_answer = []\n",
    "        max_score = 0\n",
    "\n",
    "        for ans in response['results']:\n",
    "            if ans['score'] >= 35 and ans['score'] >= max_score:\n",
    "                max_score = ans['score']\n",
    "                final_answer = ans['answer']\n",
    "            else:\n",
    "                multiple_answer.append(ans['answer'])\n",
    "\n",
    "        if final_answer:\n",
    "            print(final_answer)\n",
    "            kwargs = {\n",
    "                'query': question,\n",
    "                'answer': [final_answer],\n",
    "            }\n",
    "            return render_template('index.html', **kwargs)\n",
    "\n",
    "        if multiple_answer:\n",
    "            multiple_answer.insert(0, \"I found top 3 answers for your question:\")\n",
    "            print(multiple_answer)\n",
    "            kwargs = {\n",
    "                'query': question,\n",
    "                'answer': multiple_answer,\n",
    "            }\n",
    "            return render_template('index.html', **kwargs)\n",
    "\n",
    "        print(answer)\n",
    "        kwargs = {\n",
    "            'query': question,\n",
    "            'answer': [answer],\n",
    "        }\n",
    "        return render_template('index.html', **kwargs)"
   ]
  },
  {
   "cell_type": "markdown",
   "metadata": {},
   "source": [
    "### main function"
   ]
  },
  {
   "cell_type": "code",
   "execution_count": 7,
   "metadata": {
    "scrolled": false
   },
   "outputs": [
    {
     "name": "stdout",
     "output_type": "stream",
     "text": [
      " * Serving Flask app \"__main__\" (lazy loading)\n",
      " * Environment: production\n",
      "   WARNING: This is a development server. Do not use it in a production deployment.\n",
      "   Use a production WSGI server instead.\n",
      " * Debug mode: off\n"
     ]
    },
    {
     "name": "stderr",
     "output_type": "stream",
     "text": [
      " * Running on http://0.0.0.0:8000/ (Press CTRL+C to quit)\n",
      "INFO:werkzeug: * Running on http://0.0.0.0:8000/ (Press CTRL+C to quit)\n"
     ]
    },
    {
     "name": "stdout",
     "output_type": "stream",
     "text": [
      "..............Model training starting..............\n",
      "ms_handbook_pearson\n"
     ]
    },
    {
     "name": "stderr",
     "output_type": "stream",
     "text": [
      "  0%|          | 0/1 [00:00<?, ?it/s]\n",
      "1it [00:00, 51.40it/s]\n",
      "100%|██████████| 1/1 [00:00<00:00, 35.51it/s]"
     ]
    },
    {
     "name": "stdout",
     "output_type": "stream",
     "text": [
      "writing content into file for training\n",
      "Extracted the content for the training\n",
      "Data is parsing for training\n",
      "Training Process has been started\n",
      "./db_file/model.db already exists! Not overwriting.\n",
      "Reading into database...\n",
      "Read 714 docs.\n",
      "Committing...\n"
     ]
    },
    {
     "name": "stderr",
     "output_type": "stream",
     "text": [
      "\n"
     ]
    },
    {
     "name": "stdout",
     "output_type": "stream",
     "text": [
      "Mapping...\n",
      "-------------------------Batch 1/11-------------------------\n",
      "-------------------------Batch 2/11-------------------------\n",
      "-------------------------Batch 3/11-------------------------\n",
      "-------------------------Batch 4/11-------------------------\n",
      "-------------------------Batch 5/11-------------------------\n",
      "-------------------------Batch 6/11-------------------------\n",
      "-------------------------Batch 7/11-------------------------\n",
      "-------------------------Batch 8/11-------------------------\n",
      "-------------------------Batch 9/11-------------------------\n",
      "-------------------------Batch 10/11-------------------------\n",
      "-------------------------Batch 11/11-------------------------\n",
      "Creating sparse matrix...\n",
      "Making tfidf vectors...\n",
      "Getting word-doc frequencies...\n",
      "Saving to ./output_model/model-tfidf-ngram=2-hash=16777216-tokenizer=corenlp.npz\n"
     ]
    },
    {
     "name": "stderr",
     "output_type": "stream",
     "text": [
      "127.0.0.1 - - [22/Feb/2020 12:37:09] \"\u001b[32mPOST / HTTP/1.1\u001b[0m\" 302 -\n",
      "INFO:werkzeug:127.0.0.1 - - [22/Feb/2020 12:37:09] \"\u001b[32mPOST / HTTP/1.1\u001b[0m\" 302 -\n",
      "127.0.0.1 - - [22/Feb/2020 12:37:09] \"\u001b[37mGET /predict HTTP/1.1\u001b[0m\" 200 -\n",
      "INFO:werkzeug:127.0.0.1 - - [22/Feb/2020 12:37:09] \"\u001b[37mGET /predict HTTP/1.1\u001b[0m\" 200 -\n"
     ]
    },
    {
     "name": "stdout",
     "output_type": "stream",
     "text": [
      "{'domainName': 'model', 'documentName': 'ms_handbook_pearson', 'status': 'SUCCESS'}\n"
     ]
    }
   ],
   "source": [
    "if __name__ == '__main__':\n",
    "    app.run(host=\"0.0.0.0\",port=8000)"
   ]
  },
  {
   "cell_type": "code",
   "execution_count": null,
   "metadata": {},
   "outputs": [],
   "source": []
  }
 ],
 "metadata": {
  "kernelspec": {
   "display_name": "Python 3",
   "language": "python",
   "name": "python3"
  },
  "language_info": {
   "codemirror_mode": {
    "name": "ipython",
    "version": 3
   },
   "file_extension": ".py",
   "mimetype": "text/x-python",
   "name": "python",
   "nbconvert_exporter": "python",
   "pygments_lexer": "ipython3",
   "version": "3.7.4"
  },
  "toc": {
   "base_numbering": 1,
   "nav_menu": {},
   "number_sections": true,
   "sideBar": true,
   "skip_h1_title": false,
   "title_cell": "Table of Contents",
   "title_sidebar": "Contents",
   "toc_cell": false,
   "toc_position": {},
   "toc_section_display": true,
   "toc_window_display": false
  },
  "varInspector": {
   "cols": {
    "lenName": 16,
    "lenType": 16,
    "lenVar": 40
   },
   "kernels_config": {
    "python": {
     "delete_cmd_postfix": "",
     "delete_cmd_prefix": "del ",
     "library": "var_list.py",
     "varRefreshCmd": "print(var_dic_list())"
    },
    "r": {
     "delete_cmd_postfix": ") ",
     "delete_cmd_prefix": "rm(",
     "library": "var_list.r",
     "varRefreshCmd": "cat(var_dic_list()) "
    }
   },
   "types_to_exclude": [
    "module",
    "function",
    "builtin_function_or_method",
    "instance",
    "_Feature"
   ],
   "window_display": false
  }
 },
 "nbformat": 4,
 "nbformat_minor": 2
}
